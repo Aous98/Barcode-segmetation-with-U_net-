{
 "cells": [
  {
   "cell_type": "code",
   "execution_count": 1,
   "id": "28bc7d28",
   "metadata": {},
   "outputs": [],
   "source": [
    "import cv2\n",
    "import numpy as np\n",
    "import matplotlib.pyplot as plt\n",
    "import matplotlib.image as mpimg\n",
    "import pandas as pd"
   ]
  },
  {
   "cell_type": "code",
   "execution_count": 6,
   "id": "a54e9994",
   "metadata": {},
   "outputs": [
    {
     "data": {
      "text/html": [
       "<div>\n",
       "<style scoped>\n",
       "    .dataframe tbody tr th:only-of-type {\n",
       "        vertical-align: middle;\n",
       "    }\n",
       "\n",
       "    .dataframe tbody tr th {\n",
       "        vertical-align: top;\n",
       "    }\n",
       "\n",
       "    .dataframe thead th {\n",
       "        text-align: right;\n",
       "    }\n",
       "</style>\n",
       "<table border=\"1\" class=\"dataframe\">\n",
       "  <thead>\n",
       "    <tr style=\"text-align: right;\">\n",
       "      <th></th>\n",
       "      <th>File Name</th>\n",
       "      <th>Value 1</th>\n",
       "      <th>Value 2</th>\n",
       "      <th>Value 3</th>\n",
       "      <th>Value 4</th>\n",
       "      <th>Value 5</th>\n",
       "      <th>Value 6</th>\n",
       "      <th>Value 7</th>\n",
       "      <th>Value 8</th>\n",
       "      <th>Value 9</th>\n",
       "      <th>Value 10</th>\n",
       "      <th>Value 11</th>\n",
       "      <th>Value 12</th>\n",
       "      <th>Value 13</th>\n",
       "      <th>Value 14</th>\n",
       "    </tr>\n",
       "  </thead>\n",
       "  <tbody>\n",
       "    <tr>\n",
       "      <th>0</th>\n",
       "      <td>212</td>\n",
       "      <td>480</td>\n",
       "      <td>640</td>\n",
       "      <td>48</td>\n",
       "      <td>311</td>\n",
       "      <td>44</td>\n",
       "      <td>406</td>\n",
       "      <td>275</td>\n",
       "      <td>433</td>\n",
       "      <td>279</td>\n",
       "      <td>384</td>\n",
       "      <td>341</td>\n",
       "      <td>390</td>\n",
       "      <td>343</td>\n",
       "      <td>336</td>\n",
       "    </tr>\n",
       "    <tr>\n",
       "      <th>1</th>\n",
       "      <td>213</td>\n",
       "      <td>640</td>\n",
       "      <td>480</td>\n",
       "      <td>59</td>\n",
       "      <td>234</td>\n",
       "      <td>36</td>\n",
       "      <td>348</td>\n",
       "      <td>131</td>\n",
       "      <td>344</td>\n",
       "      <td>134</td>\n",
       "      <td>300</td>\n",
       "      <td>180</td>\n",
       "      <td>293</td>\n",
       "      <td>184</td>\n",
       "      <td>212</td>\n",
       "    </tr>\n",
       "    <tr>\n",
       "      <th>2</th>\n",
       "      <td>214</td>\n",
       "      <td>480</td>\n",
       "      <td>640</td>\n",
       "      <td>62</td>\n",
       "      <td>409</td>\n",
       "      <td>55</td>\n",
       "      <td>566</td>\n",
       "      <td>269</td>\n",
       "      <td>562</td>\n",
       "      <td>267</td>\n",
       "      <td>513</td>\n",
       "      <td>364</td>\n",
       "      <td>509</td>\n",
       "      <td>357</td>\n",
       "      <td>406</td>\n",
       "    </tr>\n",
       "    <tr>\n",
       "      <th>3</th>\n",
       "      <td>215</td>\n",
       "      <td>480</td>\n",
       "      <td>640</td>\n",
       "      <td>238</td>\n",
       "      <td>575</td>\n",
       "      <td>313</td>\n",
       "      <td>575</td>\n",
       "      <td>319</td>\n",
       "      <td>405</td>\n",
       "      <td>280</td>\n",
       "      <td>404</td>\n",
       "      <td>282</td>\n",
       "      <td>357</td>\n",
       "      <td>236</td>\n",
       "      <td>358</td>\n",
       "    </tr>\n",
       "    <tr>\n",
       "      <th>4</th>\n",
       "      <td>216</td>\n",
       "      <td>480</td>\n",
       "      <td>640</td>\n",
       "      <td>60</td>\n",
       "      <td>174</td>\n",
       "      <td>45</td>\n",
       "      <td>291</td>\n",
       "      <td>130</td>\n",
       "      <td>308</td>\n",
       "      <td>135</td>\n",
       "      <td>267</td>\n",
       "      <td>179</td>\n",
       "      <td>273</td>\n",
       "      <td>189</td>\n",
       "      <td>194</td>\n",
       "    </tr>\n",
       "  </tbody>\n",
       "</table>\n",
       "</div>"
      ],
      "text/plain": [
       "   File Name  Value 1  Value 2  Value 3  Value 4  Value 5  Value 6  Value 7  \\\n",
       "0        212      480      640       48      311       44      406      275   \n",
       "1        213      640      480       59      234       36      348      131   \n",
       "2        214      480      640       62      409       55      566      269   \n",
       "3        215      480      640      238      575      313      575      319   \n",
       "4        216      480      640       60      174       45      291      130   \n",
       "\n",
       "   Value 8  Value 9  Value 10  Value 11  Value 12  Value 13  Value 14  \n",
       "0      433      279       384       341       390       343       336  \n",
       "1      344      134       300       180       293       184       212  \n",
       "2      562      267       513       364       509       357       406  \n",
       "3      405      280       404       282       357       236       358  \n",
       "4      308      135       267       179       273       189       194  "
      ]
     },
     "execution_count": 6,
     "metadata": {},
     "output_type": "execute_result"
    }
   ],
   "source": [
    "file = pd.read_csv('D:\\mipt\\project\\data and masks\\input images\\\\temp\\\\temp.csv')\n",
    "file.head()"
   ]
  },
  {
   "cell_type": "code",
   "execution_count": 8,
   "id": "a212308f",
   "metadata": {},
   "outputs": [],
   "source": [
    "import os \n",
    "st = 'File Name'\n",
    "saving_dir = 'D:\\mipt\\project\\data and masks\\input images\\\\temp\\\\'\n",
    "for i in range(len(file)):\n",
    "    width, height = file['Value 1'][i], file['Value 2'][i]\n",
    "    black_image = np.full((height, width), 0, dtype=np.uint8)\n",
    "    points = [\n",
    "    (file['Value 3'][i], file['Value 4'][i]),\n",
    "    (file['Value 5'][i], file['Value 6'][i]),\n",
    "    (file['Value 7'][i], file['Value 8'][i]),\n",
    "    (file['Value 9'][i], file['Value 10'][i]),\n",
    "    (file['Value 11'][i], file['Value 12'][i]),\n",
    "    (file['Value 13'][i], file['Value 14'][i])\n",
    "    ]\n",
    "    polygon = [np.array(points)]\n",
    "    cv2.fillPoly(black_image, polygon, color=255)\n",
    "    mask_path = saving_dir + f'{file[st][i]}m.PNG'\n",
    "    cv2.imwrite(mask_path ,black_image)\n",
    "\n",
    "    "
   ]
  },
  {
   "cell_type": "code",
   "execution_count": 61,
   "id": "d5ab773f",
   "metadata": {},
   "outputs": [
    {
     "data": {
      "text/plain": [
       "{0: 5066965, 255: 397635}"
      ]
     },
     "execution_count": 61,
     "metadata": {},
     "output_type": "execute_result"
    },
    {
     "data": {
      "image/png": "[encoded data removed]",
      "text/plain": [
       "<Figure size 640x480 with 1 Axes>"
      ]
     },
     "metadata": {},
     "output_type": "display_data"
    }
   ],
   "source": [
    "mask = cv2.imread('D:\\mipt\\project\\data and masks\\masks\\Ready\\\\2m.PNG',0)\n",
    "plt.imshow(mask, cmap='gray')\n",
    "unique, counts = np.unique(mask, return_counts=True)\n",
    "dict(zip(unique, counts))"
   ]
  },
  {
   "cell_type": "code",
   "execution_count": 62,
   "id": "503d8c52",
   "metadata": {},
   "outputs": [
    {
     "name": "stdout",
     "output_type": "stream",
     "text": [
      "[[1308, 429], [1517, 400], [1685, 1546], [1328, 1577], [1156, 698], [1324, 679]]\n"
     ]
    },
    {
     "data": {
      "image/png": "[encoded data removed]",
      "text/plain": [
       "<Figure size 640x480 with 1 Axes>"
      ]
     },
     "metadata": {},
     "output_type": "display_data"
    }
   ],
   "source": [
    "contours, _ = cv2.findContours(mask, cv2.RETR_EXTERNAL, cv2.CHAIN_APPROX_SIMPLE)\n",
    "vertex_image = mask.copy()\n",
    "contours_coordinates = []\n",
    "\n",
    "for contour in contours:\n",
    "    epsilon = 0.03 * cv2.arcLength(contour, True)\n",
    "    approx = cv2.approxPolyDP(contour, epsilon, True)\n",
    "\n",
    "    for point in approx:\n",
    "        x, y = point[0]\n",
    "        contours_coordinates.append([y,x])\n",
    "        cv2.circle(vertex_image, (x, y), 15, 128, -1)\n",
    "\n",
    "plt.imshow(vertex_image, cmap='gray')\n",
    "\n",
    "print(contours_coordinates)\n"
   ]
  },
  {
   "cell_type": "code",
   "execution_count": null,
   "id": "3fc84eb4",
   "metadata": {},
   "outputs": [],
   "source": []
  }
 ],
 "metadata": {
  "kernelspec": {
   "display_name": "Python 3 (ipykernel)",
   "language": "python",
   "name": "python3"
  },
  "language_info": {
   "codemirror_mode": {
    "name": "ipython",
    "version": 3
   },
   "file_extension": ".py",
   "mimetype": "text/x-python",
   "name": "python",
   "nbconvert_exporter": "python",
   "pygments_lexer": "ipython3",
   "version": "3.11.4"
  },
  "varInspector": {
   "cols": {
    "lenName": 16,
    "lenType": 16,
    "lenVar": 40
   },
   "kernels_config": {
    "python": {
     "delete_cmd_postfix": "",
     "delete_cmd_prefix": "del ",
     "library": "var_list.py",
     "varRefreshCmd": "print(var_dic_list())"
    },
    "r": {
     "delete_cmd_postfix": ") ",
     "delete_cmd_prefix": "rm(",
     "library": "var_list.r",
     "varRefreshCmd": "cat(var_dic_list()) "
    }
   },
   "types_to_exclude": [
    "module",
    "function",
    "builtin_function_or_method",
    "instance",
    "_Feature"
   ],
   "window_display": false
  }
 },
 "nbformat": 4,
 "nbformat_minor": 5
}
